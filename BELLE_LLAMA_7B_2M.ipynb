{
  "nbformat": 4,
  "nbformat_minor": 0,
  "metadata": {
    "colab": {
      "provenance": [],
      "authorship_tag": "ABX9TyOxdUSdNXLhdOSdSfXncQQK",
      "include_colab_link": true
    },
    "kernelspec": {
      "name": "python3",
      "display_name": "Python 3"
    },
    "language_info": {
      "name": "python"
    }
  },
  "cells": [
    {
      "cell_type": "markdown",
      "metadata": {
        "id": "view-in-github",
        "colab_type": "text"
      },
      "source": [
        "<a href=\"https://colab.research.google.com/github/bluegitter/BELLE-LLAMA-7B-2M/blob/main/BELLE_LLAMA_7B_2M.ipynb\" target=\"_parent\"><img src=\"https://colab.research.google.com/assets/colab-badge.svg\" alt=\"Open In Colab\"/></a>"
      ]
    },
    {
      "cell_type": "markdown",
      "source": [
        "1.安装依赖环境"
      ],
      "metadata": {
        "id": "EL3iBAghjWme"
      }
    },
    {
      "cell_type": "code",
      "execution_count": null,
      "metadata": {
        "id": "NqQ6HrQFJ-FP"
      },
      "outputs": [],
      "source": [
        "!pip install torch\n",
        "!pip install accelerate\n",
        "!pip install sentencepiece\n",
        "!pip install git+https://github.com/huggingface/transformers"
      ]
    },
    {
      "cell_type": "markdown",
      "source": [
        "2.运行测试代码"
      ],
      "metadata": {
        "id": "kjVLFozBjdUD"
      }
    },
    {
      "cell_type": "code",
      "source": [
        "from transformers import LlamaForCausalLM, AutoTokenizer\n",
        "import torch\n",
        "\n",
        "ckpt = 'BelleGroup/BELLE-LLAMA-7B-2M'\n",
        "device = torch.device('cuda')\n",
        "model = LlamaForCausalLM.from_pretrained(ckpt, device_map='auto', low_cpu_mem_usage=True)\n",
        "tokenizer = AutoTokenizer.from_pretrained(ckpt)\n",
        "prompt = \"Human: 写一首中文歌曲，赞美大自然 \\n\\nAssistant: \"\n",
        "input_ids = tokenizer(prompt, return_tensors=\"pt\").input_ids.to(device)\n",
        "generate_ids = model.generate(input_ids, max_new_tokens=500, do_sample = True, top_k = 30, top_p = 0.85, temperature = 0.5, repetition_penalty=1., eos_token_id=2, bos_token_id=1, pad_token_id=0)\n",
        "output = tokenizer.batch_decode(generate_ids, skip_special_tokens=True, clean_up_tokenization_spaces=False)[0]\n",
        "response = output[len(prompt):]"
      ],
      "metadata": {
        "id": "Xpk8Sea9jUIh"
      },
      "execution_count": null,
      "outputs": []
    }
  ]
}